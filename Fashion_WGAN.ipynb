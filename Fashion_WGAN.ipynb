{
  "nbformat": 4,
  "nbformat_minor": 0,
  "metadata": {
    "accelerator": "GPU",
    "colab": {
      "name": "Fashion WGAN",
      "provenance": [],
      "authorship_tag": "ABX9TyMpOacMg0kgDBQbSRRDdBIN",
      "include_colab_link": true
    },
    "kernelspec": {
      "display_name": "Python 3",
      "name": "python3"
    }
  },
  "cells": [
    {
      "cell_type": "markdown",
      "metadata": {
        "id": "view-in-github",
        "colab_type": "text"
      },
      "source": [
        "<a href=\"https://colab.research.google.com/github/ThomasL642/Thomas/blob/main/Fashion_WGAN.ipynb\" target=\"_parent\"><img src=\"https://colab.research.google.com/assets/colab-badge.svg\" alt=\"Open In Colab\"/></a>"
      ]
    },
    {
      "cell_type": "code",
      "metadata": {
        "id": "fkVHjjRfJ7Dg"
      },
      "source": [
        "import numpy as np\r\n",
        "import tensorflow as tf\r\n",
        "from tensorflow import keras\r\n",
        "from tensorflow.keras import layers\r\n",
        "import tqdm\r\n",
        "import os\r\n",
        "import cv2\r\n",
        "import matplotlib.pyplot as plt\r\n",
        "import tensorflow as tf\r\n",
        "import numpy as np\r\n",
        "from glob import glob\r\n",
        "import keras"
      ],
      "execution_count": 1,
      "outputs": []
    },
    {
      "cell_type": "code",
      "metadata": {
        "colab": {
          "base_uri": "https://localhost:8080/"
        },
        "id": "mzGtbSswKQk2",
        "outputId": "4aaad607-4c17-4594-914f-afa512789720"
      },
      "source": [
        "IMG_SHAPE = (28, 28, 1)\r\n",
        "BATCH_SIZE = 512\r\n",
        "noise_dim = 128\r\n",
        "\r\n",
        "fashion_mnist = keras.datasets.fashion_mnist\r\n",
        "(train_images, train_labels), (test_images, test_labels) = fashion_mnist.load_data()\r\n",
        "print(f\"Number of examples:  {len(train_images)}\")\r\n",
        "print(f\"Shape of the images: {train_images.shape[1:]}\")\r\n",
        "\r\n",
        "train_images = train_images.reshape(train_images.shape[0], *IMG_SHAPE).astype(\"float32\")\r\n",
        "train_images = (train_images - 127.5) / 127.5"
      ],
      "execution_count": 2,
      "outputs": [
        {
          "output_type": "stream",
          "text": [
            "Downloading data from https://storage.googleapis.com/tensorflow/tf-keras-datasets/train-labels-idx1-ubyte.gz\n",
            "32768/29515 [=================================] - 0s 0us/step\n",
            "Downloading data from https://storage.googleapis.com/tensorflow/tf-keras-datasets/train-images-idx3-ubyte.gz\n",
            "26427392/26421880 [==============================] - 0s 0us/step\n",
            "Downloading data from https://storage.googleapis.com/tensorflow/tf-keras-datasets/t10k-labels-idx1-ubyte.gz\n",
            "8192/5148 [===============================================] - 0s 0us/step\n",
            "Downloading data from https://storage.googleapis.com/tensorflow/tf-keras-datasets/t10k-images-idx3-ubyte.gz\n",
            "4423680/4422102 [==============================] - 0s 0us/step\n",
            "Number of examples:  60000\n",
            "Shape of the images: (28, 28)\n"
          ],
          "name": "stdout"
        }
      ]
    },
    {
      "cell_type": "code",
      "metadata": {
        "colab": {
          "base_uri": "https://localhost:8080/"
        },
        "id": "jrj1y9e-Kc48",
        "outputId": "5764eec5-83ee-4929-80c8-bba5cacd985a"
      },
      "source": [
        "def conv_l(\r\n",
        "    x,\r\n",
        "    filters,\r\n",
        "    activation,\r\n",
        "    kernel_size=(3,3),\r\n",
        "    strides=(1,1),\r\n",
        "    padding=\"same\",\r\n",
        "    use_bias=True,\r\n",
        "    use_bn=False,\r\n",
        "    use_dropout=False,\r\n",
        "    drop_value=0.5,\r\n",
        "):\r\n",
        "    x = layers.Conv2D(\r\n",
        "        filters, kernel_size, strides=strides, padding=padding, use_bias=use_bias\r\n",
        "    )(x)\r\n",
        "    if use_bn:\r\n",
        "      x =layers.BatchNormalization()(x)\r\n",
        "    x = activation(x)\r\n",
        "    if use_dropout:\r\n",
        "      x = layers.Dropout(drop_value)(x)\r\n",
        "    return x\r\n",
        "\r\n",
        "def get_discriminator_model():\r\n",
        "  img_input = layers.Input(shape=IMG_SHAPE)\r\n",
        "  x = layers.ZeroPadding2D((2, 2))(img_input)\r\n",
        "  x = conv_l(\r\n",
        "      x,\r\n",
        "      64,\r\n",
        "      kernel_size = (5,5),\r\n",
        "      strides=(2,2),\r\n",
        "      use_bn=False,\r\n",
        "      use_bias=True,\r\n",
        "      activation=layers.LeakyReLU(0.2),\r\n",
        "      use_dropout=False,\r\n",
        "      drop_value=0.3,\r\n",
        "  )\r\n",
        "  x = conv_l(\r\n",
        "      x,\r\n",
        "      128,\r\n",
        "      kernel_size = (5,5),\r\n",
        "      strides=(2,2),\r\n",
        "      use_bn=False,\r\n",
        "      activation=layers.LeakyReLU(0.2),\r\n",
        "      use_bias=True,\r\n",
        "      use_dropout=True,\r\n",
        "      drop_value=0.3,\r\n",
        "  )\r\n",
        "  x = conv_l(\r\n",
        "      x,\r\n",
        "      256,\r\n",
        "      kernel_size = (5,5),\r\n",
        "      strides=(2,2),\r\n",
        "      use_bn=False,\r\n",
        "      activation=layers.LeakyReLU(0.2),\r\n",
        "      use_bias=True,\r\n",
        "      use_dropout=True,\r\n",
        "      drop_value=0.3,\r\n",
        "  )\r\n",
        "  x = conv_l(\r\n",
        "      x,\r\n",
        "      512,\r\n",
        "      kernel_size = (5,5),\r\n",
        "      strides=(2,2),\r\n",
        "      use_bn=False,\r\n",
        "      activation=layers.LeakyReLU(0.2),\r\n",
        "      use_bias=True,\r\n",
        "      use_dropout=False,\r\n",
        "      drop_value=0.3,\r\n",
        "  )\r\n",
        "    \r\n",
        "  x = layers.Flatten()(x)\r\n",
        "  x = layers.Dropout(0.2)(x)\r\n",
        "  x = layers.Dense(1)(x)\r\n",
        "\r\n",
        "  d_model = keras.models.Model(img_input, x, name=\"discriminator\")\r\n",
        "  return d_model\r\n",
        "\r\n",
        "d_model = get_discriminator_model()\r\n",
        "d_model.summary()"
      ],
      "execution_count": 3,
      "outputs": [
        {
          "output_type": "stream",
          "text": [
            "Model: \"discriminator\"\n",
            "_________________________________________________________________\n",
            "Layer (type)                 Output Shape              Param #   \n",
            "=================================================================\n",
            "input_1 (InputLayer)         [(None, 28, 28, 1)]       0         \n",
            "_________________________________________________________________\n",
            "zero_padding2d (ZeroPadding2 (None, 32, 32, 1)         0         \n",
            "_________________________________________________________________\n",
            "conv2d (Conv2D)              (None, 16, 16, 64)        1664      \n",
            "_________________________________________________________________\n",
            "leaky_re_lu (LeakyReLU)      (None, 16, 16, 64)        0         \n",
            "_________________________________________________________________\n",
            "conv2d_1 (Conv2D)            (None, 8, 8, 128)         204928    \n",
            "_________________________________________________________________\n",
            "leaky_re_lu_1 (LeakyReLU)    (None, 8, 8, 128)         0         \n",
            "_________________________________________________________________\n",
            "dropout (Dropout)            (None, 8, 8, 128)         0         \n",
            "_________________________________________________________________\n",
            "conv2d_2 (Conv2D)            (None, 4, 4, 256)         819456    \n",
            "_________________________________________________________________\n",
            "leaky_re_lu_2 (LeakyReLU)    (None, 4, 4, 256)         0         \n",
            "_________________________________________________________________\n",
            "dropout_1 (Dropout)          (None, 4, 4, 256)         0         \n",
            "_________________________________________________________________\n",
            "conv2d_3 (Conv2D)            (None, 2, 2, 512)         3277312   \n",
            "_________________________________________________________________\n",
            "leaky_re_lu_3 (LeakyReLU)    (None, 2, 2, 512)         0         \n",
            "_________________________________________________________________\n",
            "flatten (Flatten)            (None, 2048)              0         \n",
            "_________________________________________________________________\n",
            "dropout_2 (Dropout)          (None, 2048)              0         \n",
            "_________________________________________________________________\n",
            "dense (Dense)                (None, 1)                 2049      \n",
            "=================================================================\n",
            "Total params: 4,305,409\n",
            "Trainable params: 4,305,409\n",
            "Non-trainable params: 0\n",
            "_________________________________________________________________\n"
          ],
          "name": "stdout"
        }
      ]
    },
    {
      "cell_type": "code",
      "metadata": {
        "colab": {
          "base_uri": "https://localhost:8080/"
        },
        "id": "DHCcGUkiWKWj",
        "outputId": "4fc6590e-8c99-4f39-c516-1184f38056ce"
      },
      "source": [
        "def upsample_block(\r\n",
        "    x,\r\n",
        "    filters,\r\n",
        "    activation,\r\n",
        "    kernel_size=(3,3),\r\n",
        "    strides=(1,1),\r\n",
        "    up_size=(2,2),\r\n",
        "    padding=\"same\",\r\n",
        "    use_bn=False,\r\n",
        "    use_bias=True,\r\n",
        "    use_dropout=False,\r\n",
        "    drop_value=0.3,\r\n",
        "):\r\n",
        "    x = layers.UpSampling2D(up_size)(x)\r\n",
        "    x = layers.Conv2D(\r\n",
        "        filters, kernel_size, strides=strides, padding=padding, use_bias=use_bias\r\n",
        "    )(x)\r\n",
        "\r\n",
        "    if use_bn:\r\n",
        "      x = layers.BatchNormalization()(x)\r\n",
        "\r\n",
        "    if activation:\r\n",
        "      x = activation(x)\r\n",
        "    if use_dropout:\r\n",
        "      x = layers.Dropout(drop_value)(x)\r\n",
        "    return x\r\n",
        "\r\n",
        "def get_generator_model():\r\n",
        "  noise = layers.Input(shape=(noise_dim,))\r\n",
        "  x = layers.Dense(4 * 4 * 256, use_bias=False)(noise)\r\n",
        "  x = layers.BatchNormalization()(x)\r\n",
        "  x = layers.LeakyReLU(0.2)(x)\r\n",
        "\r\n",
        "  x = layers.Reshape((4, 4, 256))(x)\r\n",
        "  x = upsample_block(\r\n",
        "      x,\r\n",
        "      128,\r\n",
        "      layers.LeakyReLU(0.2),\r\n",
        "      strides=(1, 1),\r\n",
        "      use_bias = False,\r\n",
        "      use_bn=True,\r\n",
        "      padding=\"same\",\r\n",
        "      use_dropout=False,\r\n",
        "  )\r\n",
        "  x = upsample_block(\r\n",
        "      x,\r\n",
        "      64,\r\n",
        "      layers.LeakyReLU(0.2),\r\n",
        "      strides=(1,1),\r\n",
        "      use_bias=False,\r\n",
        "      use_bn=True,\r\n",
        "      padding=\"same\",\r\n",
        "      use_dropout=False,\r\n",
        "  )\r\n",
        "\r\n",
        "  x = upsample_block(\r\n",
        "      x, 1, layers.Activation(\"tanh\"), strides=(1,1), use_bias=False, use_bn=True\r\n",
        "  )\r\n",
        "  x=layers.Cropping2D((2,2))(x)\r\n",
        "\r\n",
        "  g_model = keras.models.Model(noise, x, name=\"generator\")\r\n",
        "  return g_model\r\n",
        "\r\n",
        "g_model = get_generator_model()\r\n",
        "g_model.summary()"
      ],
      "execution_count": 4,
      "outputs": [
        {
          "output_type": "stream",
          "text": [
            "Model: \"generator\"\n",
            "_________________________________________________________________\n",
            "Layer (type)                 Output Shape              Param #   \n",
            "=================================================================\n",
            "input_2 (InputLayer)         [(None, 128)]             0         \n",
            "_________________________________________________________________\n",
            "dense_1 (Dense)              (None, 4096)              524288    \n",
            "_________________________________________________________________\n",
            "batch_normalization (BatchNo (None, 4096)              16384     \n",
            "_________________________________________________________________\n",
            "leaky_re_lu_4 (LeakyReLU)    (None, 4096)              0         \n",
            "_________________________________________________________________\n",
            "reshape (Reshape)            (None, 4, 4, 256)         0         \n",
            "_________________________________________________________________\n",
            "up_sampling2d (UpSampling2D) (None, 8, 8, 256)         0         \n",
            "_________________________________________________________________\n",
            "conv2d_4 (Conv2D)            (None, 8, 8, 128)         294912    \n",
            "_________________________________________________________________\n",
            "batch_normalization_1 (Batch (None, 8, 8, 128)         512       \n",
            "_________________________________________________________________\n",
            "leaky_re_lu_5 (LeakyReLU)    (None, 8, 8, 128)         0         \n",
            "_________________________________________________________________\n",
            "up_sampling2d_1 (UpSampling2 (None, 16, 16, 128)       0         \n",
            "_________________________________________________________________\n",
            "conv2d_5 (Conv2D)            (None, 16, 16, 64)        73728     \n",
            "_________________________________________________________________\n",
            "batch_normalization_2 (Batch (None, 16, 16, 64)        256       \n",
            "_________________________________________________________________\n",
            "leaky_re_lu_6 (LeakyReLU)    (None, 16, 16, 64)        0         \n",
            "_________________________________________________________________\n",
            "up_sampling2d_2 (UpSampling2 (None, 32, 32, 64)        0         \n",
            "_________________________________________________________________\n",
            "conv2d_6 (Conv2D)            (None, 32, 32, 1)         576       \n",
            "_________________________________________________________________\n",
            "batch_normalization_3 (Batch (None, 32, 32, 1)         4         \n",
            "_________________________________________________________________\n",
            "activation (Activation)      (None, 32, 32, 1)         0         \n",
            "_________________________________________________________________\n",
            "cropping2d (Cropping2D)      (None, 28, 28, 1)         0         \n",
            "=================================================================\n",
            "Total params: 910,660\n",
            "Trainable params: 902,082\n",
            "Non-trainable params: 8,578\n",
            "_________________________________________________________________\n"
          ],
          "name": "stdout"
        }
      ]
    },
    {
      "cell_type": "code",
      "metadata": {
        "id": "yEA27GcsdA-f"
      },
      "source": [
        "class WGAN(keras.Model):\r\n",
        "  def __init__(\r\n",
        "      self,\r\n",
        "      discriminator,\r\n",
        "      generator,\r\n",
        "      latent_dim,\r\n",
        "      discriminator_extra_steps=3,\r\n",
        "      gp_weight=10.0,\r\n",
        "\r\n",
        "  ):\r\n",
        "      super(WGAN, self).__init__()\r\n",
        "      self.discriminator = discriminator\r\n",
        "      self.generator = generator\r\n",
        "      self.latent_dim = latent_dim\r\n",
        "      self.d_steps = discriminator_extra_steps\r\n",
        "      self.gp_weight = gp_weight\r\n",
        "    \r\n",
        "  def compile(self, d_optimizer, g_optimizer, d_loss_fn, g_loss_fn):\r\n",
        "    super(WGAN, self).compile()\r\n",
        "    self.d_optimizer = d_optimizer\r\n",
        "    self.g_optimizer = g_optimizer\r\n",
        "    self.d_loss_fn = d_loss_fn\r\n",
        "    self.g_loss_fn = g_loss_fn\r\n",
        "\r\n",
        "\r\n",
        "  def gradient_penalty(self, batch_size, real_images, fake_images):\r\n",
        "    #gradient penalty for the win\r\n",
        "    alpha = tf.random.normal([batch_size, 1, 1, 1], 0.0, 1.0)\r\n",
        "    diff = fake_images - real_images\r\n",
        "    interpolated = real_images + alpha * diff\r\n",
        "\r\n",
        "    with tf.GradientTape() as gp_tape:\r\n",
        "      gp_tape.watch(interpolated)\r\n",
        "      pred = self.discriminator(interpolated, training=True)\r\n",
        "      \r\n",
        "    grads = gp_tape.gradient(pred, [interpolated])[0]\r\n",
        "\r\n",
        "    norm = tf.sqrt(tf.reduce_sum(tf.square(grads), axis=[1, 2, 3]))\r\n",
        "    gp = tf.reduce_mean((norm - 1.0) ** 2)\r\n",
        "    return gp\r\n",
        "\r\n",
        "  def train_step(self, real_images):\r\n",
        "    if isinstance(real_images, tuple):\r\n",
        "      real_images = real_images[0]\r\n",
        "    batch_size = tf.shape(real_images)[0]\r\n",
        "\r\n",
        "    for i in range(self.d_steps):\r\n",
        "      random_latent_vectors = tf.random.normal(\r\n",
        "          shape=(batch_size, self.latent_dim)\r\n",
        "      )\r\n",
        "      with tf.GradientTape() as tape:\r\n",
        "\r\n",
        "        fake_images = self.generator(random_latent_vectors, training=True)\r\n",
        "\r\n",
        "        fake_logits = self.discriminator(fake_images, training=True)\r\n",
        "        real_logits = self.discriminator(real_images, training=True)\r\n",
        "\r\n",
        "        d_cost = self.d_loss_fn(real_img=real_logits, fake_img=fake_logits)\r\n",
        "\r\n",
        "        gp = self.gradient_penalty(batch_size, real_images, fake_images)\r\n",
        "\r\n",
        "        d_loss = d_cost + gp * self.gp_weight\r\n",
        "\r\n",
        "      d_gradient = tape.gradient(d_loss, self.discriminator.trainable_variables)\r\n",
        "      self.d_optimizer.apply_gradients(\r\n",
        "          zip(d_gradient, self.discriminator.trainable_variables)\r\n",
        "      )\r\n",
        "\r\n",
        "      random_latent_vectors = tf.random.normal(shape=(batch_size, self.latent_dim))\r\n",
        "      with tf.GradientTape() as tape:\r\n",
        "        generated_images = self.generator(random_latent_vectors, training=True)\r\n",
        "        gen_img_logits = self.discriminator(generated_images, training=True)\r\n",
        "        g_loss = self.g_loss_fn(gen_img_logits)\r\n",
        "\r\n",
        "      gen_gradient = tape.gradient(g_loss, self.generator.trainable_variables)\r\n",
        "      self.g_optimizer.apply_gradients(\r\n",
        "          zip(gen_gradient, self.generator.trainable_variables)\r\n",
        "      )\r\n",
        "\r\n",
        "      return {\"d_loss\": d_loss, \"g_loss\": g_loss}"
      ],
      "execution_count": 5,
      "outputs": []
    },
    {
      "cell_type": "code",
      "metadata": {
        "id": "cfKNvPeTkjIN"
      },
      "source": [
        "class GANMonitor(keras.callbacks.Callback):\r\n",
        "  def __init__(self, num_img=6, latent_dim=128):\r\n",
        "    self.num_img = num_img\r\n",
        "    self.latent_dim = latent_dim\r\n",
        "\r\n",
        "  def on_epoch_end(self, epoch, logs=None):\r\n",
        "    random_latent_vectors = tf.random.normal(shape=(self.num_img, self.latent_dim))\r\n",
        "    generated_images = self.model.generator(random_latent_vectors)\r\n",
        "    generated_images = (generated_images * 127.5) + 127.5\r\n",
        "\r\n",
        "    for i in range(self.num_img):\r\n",
        "      img = generated_images[i].numpy()\r\n",
        "      img = keras.preprocessing.image.array_to_img(img)\r\n",
        "      img.save(\"generated_img_{i}_{epoch}.png\". format(i=i, epoch=epoch))"
      ],
      "execution_count": 6,
      "outputs": []
    },
    {
      "cell_type": "code",
      "metadata": {
        "colab": {
          "base_uri": "https://localhost:8080/"
        },
        "id": "T-2cxsCynPnZ",
        "outputId": "cb41e872-efd8-4443-aa8a-767571e95e32"
      },
      "source": [
        "generator_optimizer = keras.optimizers.Adam(\r\n",
        "    learning_rate=0.0002, beta_1=0.5, beta_2=0.9\r\n",
        ")\r\n",
        "\r\n",
        "discriminator_optimizer = keras.optimizers.Adam(\r\n",
        "    learning_rate=0.0002, beta_1=0.5, beta_2=0.9\r\n",
        ")\r\n",
        "\r\n",
        "def discriminator_loss(real_img, fake_img):\r\n",
        "  real_loss = tf.reduce_mean(real_img)\r\n",
        "  fake_loss = tf.reduce_mean(fake_img)\r\n",
        "  return fake_loss - real_loss\r\n",
        "\r\n",
        "def generator_loss(fake_img):\r\n",
        "  return -tf.reduce_mean(fake_img)\r\n",
        "\r\n",
        "epochs = 20\r\n",
        "\r\n",
        "cbk = GANMonitor(num_img=3, latent_dim=noise_dim)\r\n",
        "\r\n",
        "wgan = WGAN(\r\n",
        "    discriminator= d_model,\r\n",
        "    generator = g_model,\r\n",
        "    latent_dim = noise_dim,\r\n",
        "    discriminator_extra_steps=3,\r\n",
        ")\r\n",
        "\r\n",
        "wgan.compile(\r\n",
        "    d_optimizer = discriminator_optimizer,\r\n",
        "    g_optimizer = generator_optimizer,\r\n",
        "    g_loss_fn = generator_loss,\r\n",
        "    d_loss_fn = discriminator_loss,\r\n",
        ")\r\n",
        "\r\n",
        "wgan.fit(train_images, batch_size=BATCH_SIZE, epochs=epochs, callbacks=[cbk])"
      ],
      "execution_count": 7,
      "outputs": [
        {
          "output_type": "stream",
          "text": [
            "Epoch 1/20\n",
            "118/118 [==============================] - 69s 505ms/step - d_loss: -5.3107 - g_loss: -15.8937\n",
            "Epoch 2/20\n",
            "118/118 [==============================] - 66s 560ms/step - d_loss: -5.6852 - g_loss: -15.3504\n",
            "Epoch 3/20\n",
            "118/118 [==============================] - 65s 555ms/step - d_loss: -5.0538 - g_loss: -13.8513\n",
            "Epoch 4/20\n",
            "118/118 [==============================] - 66s 556ms/step - d_loss: -4.6871 - g_loss: -10.4406\n",
            "Epoch 5/20\n",
            "118/118 [==============================] - 66s 559ms/step - d_loss: -4.3971 - g_loss: -8.7360\n",
            "Epoch 6/20\n",
            "118/118 [==============================] - 66s 557ms/step - d_loss: -3.9295 - g_loss: -8.6651\n",
            "Epoch 7/20\n",
            "118/118 [==============================] - 66s 556ms/step - d_loss: -3.5833 - g_loss: -8.1890\n",
            "Epoch 8/20\n",
            "118/118 [==============================] - 66s 556ms/step - d_loss: -3.2504 - g_loss: -7.2864\n",
            "Epoch 9/20\n",
            "118/118 [==============================] - 66s 555ms/step - d_loss: -3.0044 - g_loss: -6.3626\n",
            "Epoch 10/20\n",
            "118/118 [==============================] - 66s 556ms/step - d_loss: -2.7660 - g_loss: -5.5141\n",
            "Epoch 11/20\n",
            "118/118 [==============================] - 66s 555ms/step - d_loss: -2.5932 - g_loss: -5.6512\n",
            "Epoch 12/20\n",
            "118/118 [==============================] - 66s 555ms/step - d_loss: -2.4117 - g_loss: -5.3749\n",
            "Epoch 13/20\n",
            "118/118 [==============================] - 66s 556ms/step - d_loss: -2.2859 - g_loss: -4.9804\n",
            "Epoch 14/20\n",
            "118/118 [==============================] - 66s 556ms/step - d_loss: -2.1503 - g_loss: -4.8858\n",
            "Epoch 15/20\n",
            "118/118 [==============================] - 66s 558ms/step - d_loss: -2.0336 - g_loss: -4.5379\n",
            "Epoch 16/20\n",
            "118/118 [==============================] - 66s 557ms/step - d_loss: -1.9125 - g_loss: -3.9562\n",
            "Epoch 17/20\n",
            "118/118 [==============================] - 66s 557ms/step - d_loss: -1.7985 - g_loss: -4.2310\n",
            "Epoch 18/20\n",
            "118/118 [==============================] - 66s 557ms/step - d_loss: -1.7204 - g_loss: -4.4053\n",
            "Epoch 19/20\n",
            "118/118 [==============================] - 66s 557ms/step - d_loss: -1.6467 - g_loss: -3.8495\n",
            "Epoch 20/20\n",
            "118/118 [==============================] - 66s 556ms/step - d_loss: -1.5726 - g_loss: -3.6693\n"
          ],
          "name": "stdout"
        },
        {
          "output_type": "execute_result",
          "data": {
            "text/plain": [
              "<tensorflow.python.keras.callbacks.History at 0x7f148c089d68>"
            ]
          },
          "metadata": {
            "tags": []
          },
          "execution_count": 7
        }
      ]
    },
    {
      "cell_type": "code",
      "metadata": {
        "id": "7DrEKURco0NJ",
        "colab": {
          "base_uri": "https://localhost:8080/",
          "height": 101
        },
        "outputId": "c549487d-06fd-4238-e25d-d585bfbcc012"
      },
      "source": [
        "from IPython.display import Image, display\r\n",
        "\r\n",
        "display(Image(\"generated_img_0_19.png\"))\r\n",
        "display(Image(\"generated_img_1_19.png\"))\r\n",
        "display(Image(\"generated_img_2_19.png\"))"
      ],
      "execution_count": 8,
      "outputs": [
        {
          "output_type": "display_data",
          "data": {
            "image/png": "[encoded data removed]",
            "text/plain": [
              "<IPython.core.display.Image object>"
            ]
          },
          "metadata": {
            "tags": []
          }
        },
        {
          "output_type": "display_data",
          "data": {
            "image/png": "[encoded data removed]",
            "text/plain": [
              "<IPython.core.display.Image object>"
            ]
          },
          "metadata": {
            "tags": []
          }
        },
        {
          "output_type": "display_data",
          "data": {
            "image/png": "[encoded data removed]",
            "text/plain": [
              "<IPython.core.display.Image object>"
            ]
          },
          "metadata": {
            "tags": []
          }
        }
      ]
    }
  ]
}