{
  "nbformat": 4,
  "nbformat_minor": 0,
  "metadata": {
    "colab": {
      "name": "Neural Network Housing Price Predictor",
      "provenance": [],
      "mount_file_id": "1OEj86f-MhgFlVW0Q0swUWz5PB-ByGKe0",
      "authorship_tag": "ABX9TyMaZaTTDDV5Q05P6QVp1iDW",
      "include_colab_link": true
    },
    "kernelspec": {
      "name": "python3",
      "display_name": "Python 3"
    }
  },
  "cells": [
    {
      "cell_type": "markdown",
      "metadata": {
        "id": "view-in-github",
        "colab_type": "text"
      },
      "source": [
        "<a href=\"https://colab.research.google.com/github/ThomasL642/Thomas/blob/main/Neural_Network_Housing_Price_Predictor.ipynb\" target=\"_parent\"><img src=\"https://colab.research.google.com/assets/colab-badge.svg\" alt=\"Open In Colab\"/></a>"
      ]
    },
    {
      "cell_type": "code",
      "metadata": {
        "id": "BoOgEloXzws3"
      },
      "source": [
        "import keras \r\n",
        "import numpy as np\r\n",
        "import pandas as pd #import package\r\n",
        "from sklearn.model_selection import train_test_split"
      ],
      "execution_count": null,
      "outputs": []
    },
    {
      "cell_type": "code",
      "metadata": {
        "colab": {
          "base_uri": "https://localhost:8080/",
          "height": 201
        },
        "id": "78t0ADVG0ZhJ",
        "outputId": "065ca403-3108-4302-a349-1471d2013b7b"
      },
      "source": [
        "df = pd.read_csv(\"/content/drive/MyDrive/Colab Notebooks/DATA/Iowa housing prices v2 - Sheet1.csv\") #File directory\r\n",
        "df.head() #Show frist 5 things"
      ],
      "execution_count": null,
      "outputs": [
        {
          "output_type": "execute_result",
          "data": {
            "text/html": [
              "<div>\n",
              "<style scoped>\n",
              "    .dataframe tbody tr th:only-of-type {\n",
              "        vertical-align: middle;\n",
              "    }\n",
              "\n",
              "    .dataframe tbody tr th {\n",
              "        vertical-align: top;\n",
              "    }\n",
              "\n",
              "    .dataframe thead th {\n",
              "        text-align: right;\n",
              "    }\n",
              "</style>\n",
              "<table border=\"1\" class=\"dataframe\">\n",
              "  <thead>\n",
              "    <tr style=\"text-align: right;\">\n",
              "      <th></th>\n",
              "      <th>YearBuilt</th>\n",
              "      <th>2ndFlrSF</th>\n",
              "      <th>GrLivArea</th>\n",
              "      <th>FullBath</th>\n",
              "      <th>HalfBath</th>\n",
              "      <th>BedroomAbvGr</th>\n",
              "      <th>TotRmsAbvGrd</th>\n",
              "      <th>YrSold</th>\n",
              "      <th>SalePrice</th>\n",
              "    </tr>\n",
              "  </thead>\n",
              "  <tbody>\n",
              "    <tr>\n",
              "      <th>0</th>\n",
              "      <td>2003</td>\n",
              "      <td>854</td>\n",
              "      <td>1710</td>\n",
              "      <td>2</td>\n",
              "      <td>1</td>\n",
              "      <td>3</td>\n",
              "      <td>8</td>\n",
              "      <td>2008</td>\n",
              "      <td>208500</td>\n",
              "    </tr>\n",
              "    <tr>\n",
              "      <th>1</th>\n",
              "      <td>1976</td>\n",
              "      <td>0</td>\n",
              "      <td>1262</td>\n",
              "      <td>2</td>\n",
              "      <td>0</td>\n",
              "      <td>3</td>\n",
              "      <td>6</td>\n",
              "      <td>2007</td>\n",
              "      <td>181500</td>\n",
              "    </tr>\n",
              "    <tr>\n",
              "      <th>2</th>\n",
              "      <td>2001</td>\n",
              "      <td>866</td>\n",
              "      <td>1786</td>\n",
              "      <td>2</td>\n",
              "      <td>1</td>\n",
              "      <td>3</td>\n",
              "      <td>6</td>\n",
              "      <td>2008</td>\n",
              "      <td>223500</td>\n",
              "    </tr>\n",
              "    <tr>\n",
              "      <th>3</th>\n",
              "      <td>1915</td>\n",
              "      <td>756</td>\n",
              "      <td>1717</td>\n",
              "      <td>1</td>\n",
              "      <td>0</td>\n",
              "      <td>3</td>\n",
              "      <td>7</td>\n",
              "      <td>2006</td>\n",
              "      <td>140000</td>\n",
              "    </tr>\n",
              "    <tr>\n",
              "      <th>4</th>\n",
              "      <td>2000</td>\n",
              "      <td>1053</td>\n",
              "      <td>2198</td>\n",
              "      <td>2</td>\n",
              "      <td>1</td>\n",
              "      <td>4</td>\n",
              "      <td>9</td>\n",
              "      <td>2008</td>\n",
              "      <td>250000</td>\n",
              "    </tr>\n",
              "  </tbody>\n",
              "</table>\n",
              "</div>"
            ],
            "text/plain": [
              "   YearBuilt  2ndFlrSF  GrLivArea  ...  TotRmsAbvGrd  YrSold  SalePrice\n",
              "0       2003       854       1710  ...             8    2008     208500\n",
              "1       1976         0       1262  ...             6    2007     181500\n",
              "2       2001       866       1786  ...             6    2008     223500\n",
              "3       1915       756       1717  ...             7    2006     140000\n",
              "4       2000      1053       2198  ...             9    2008     250000\n",
              "\n",
              "[5 rows x 9 columns]"
            ]
          },
          "metadata": {
            "tags": []
          },
          "execution_count": 63
        }
      ]
    },
    {
      "cell_type": "code",
      "metadata": {
        "id": "P9fBVhyv2-RC"
      },
      "source": [
        "X = df.drop(columns = [\"SalePrice\"]) #define x(all columns but saleprice) and y values\r\n",
        "Y = df[[\"SalePrice\"]]"
      ],
      "execution_count": null,
      "outputs": []
    },
    {
      "cell_type": "code",
      "metadata": {
        "id": "jHAPEsXh6ga0"
      },
      "source": [
        "model = keras.Sequential()\r\n",
        "\r\n",
        "model.add(keras.layers.Dense(8,activation=\"relu\",input_shape=(8,))) #expriement to find out how many neurons to use but genrally people assign the same amount of neurons as attributs\r\n",
        "model.add(keras.layers.Dense(8, activation=\"relu\"))\r\n",
        "model.add(keras.layers.Dense(1)) #one neuron because its the output\r\n",
        "\r\n",
        "model.compile(optimizer=\"Adam\",loss=\"mean_squared_error\", metrics=[\"accuracy\"])"
      ],
      "execution_count": null,
      "outputs": []
    },
    {
      "cell_type": "code",
      "metadata": {
        "id": "euBB0-_q_SFT"
      },
      "source": [
        "X_train, X_test, Y_train, Y_test = train_test_split(X,Y,test_size=0.2)"
      ],
      "execution_count": null,
      "outputs": []
    },
    {
      "cell_type": "code",
      "metadata": {
        "colab": {
          "base_uri": "https://localhost:8080/"
        },
        "id": "Ag-anlRZ_2pv",
        "outputId": "119cec7b-6e6a-409c-9f3e-53b24f28a958"
      },
      "source": [
        "len(X_test)"
      ],
      "execution_count": null,
      "outputs": [
        {
          "output_type": "execute_result",
          "data": {
            "text/plain": [
              "292"
            ]
          },
          "metadata": {
            "tags": []
          },
          "execution_count": 67
        }
      ]
    },
    {
      "cell_type": "code",
      "metadata": {
        "colab": {
          "base_uri": "https://localhost:8080/"
        },
        "id": "-qDpklzJ-prs",
        "outputId": "659d0848-f1de-4ab6-adde-1680921a088d"
      },
      "source": [
        "model.fit(X_train,Y_train, epochs=30) #callbacks=[keras.callbacks.EarlyStopping(patience=5)])"
      ],
      "execution_count": null,
      "outputs": [
        {
          "output_type": "stream",
          "text": [
            "Epoch 1/30\n",
            "37/37 [==============================] - 0s 970us/step - loss: 2808162048.0000 - accuracy: 0.0000e+00\n",
            "Epoch 2/30\n",
            "37/37 [==============================] - 0s 937us/step - loss: 2803151104.0000 - accuracy: 0.0000e+00\n",
            "Epoch 3/30\n",
            "37/37 [==============================] - 0s 953us/step - loss: 2805142016.0000 - accuracy: 0.0000e+00\n",
            "Epoch 4/30\n",
            "37/37 [==============================] - 0s 988us/step - loss: 2801011968.0000 - accuracy: 0.0000e+00\n",
            "Epoch 5/30\n",
            "37/37 [==============================] - 0s 940us/step - loss: 2802990080.0000 - accuracy: 0.0000e+00\n",
            "Epoch 6/30\n",
            "37/37 [==============================] - 0s 980us/step - loss: 2804329728.0000 - accuracy: 0.0000e+00\n",
            "Epoch 7/30\n",
            "37/37 [==============================] - 0s 935us/step - loss: 2805478144.0000 - accuracy: 0.0000e+00\n",
            "Epoch 8/30\n",
            "37/37 [==============================] - 0s 994us/step - loss: 2800102912.0000 - accuracy: 0.0000e+00\n",
            "Epoch 9/30\n",
            "37/37 [==============================] - 0s 906us/step - loss: 2803040000.0000 - accuracy: 0.0000e+00\n",
            "Epoch 10/30\n",
            "37/37 [==============================] - 0s 1ms/step - loss: 2799125504.0000 - accuracy: 0.0000e+00\n",
            "Epoch 11/30\n",
            "37/37 [==============================] - 0s 976us/step - loss: 2801497088.0000 - accuracy: 0.0000e+00\n",
            "Epoch 12/30\n",
            "37/37 [==============================] - 0s 1ms/step - loss: 2799171328.0000 - accuracy: 0.0000e+00\n",
            "Epoch 13/30\n",
            "37/37 [==============================] - 0s 1ms/step - loss: 2801069568.0000 - accuracy: 0.0000e+00\n",
            "Epoch 14/30\n",
            "37/37 [==============================] - 0s 1ms/step - loss: 2797710848.0000 - accuracy: 0.0000e+00\n",
            "Epoch 15/30\n",
            "37/37 [==============================] - 0s 1ms/step - loss: 2795781376.0000 - accuracy: 0.0000e+00\n",
            "Epoch 16/30\n",
            "37/37 [==============================] - 0s 1ms/step - loss: 2805026304.0000 - accuracy: 0.0000e+00\n",
            "Epoch 17/30\n",
            "37/37 [==============================] - 0s 960us/step - loss: 2797401088.0000 - accuracy: 0.0000e+00\n",
            "Epoch 18/30\n",
            "37/37 [==============================] - 0s 985us/step - loss: 2795834112.0000 - accuracy: 0.0000e+00\n",
            "Epoch 19/30\n",
            "37/37 [==============================] - 0s 1ms/step - loss: 2797889536.0000 - accuracy: 0.0000e+00\n",
            "Epoch 20/30\n",
            "37/37 [==============================] - 0s 1000us/step - loss: 2797323264.0000 - accuracy: 0.0000e+00\n",
            "Epoch 21/30\n",
            "37/37 [==============================] - 0s 950us/step - loss: 2797747712.0000 - accuracy: 0.0000e+00\n",
            "Epoch 22/30\n",
            "37/37 [==============================] - 0s 952us/step - loss: 2796531712.0000 - accuracy: 0.0000e+00\n",
            "Epoch 23/30\n",
            "37/37 [==============================] - 0s 1ms/step - loss: 2794543360.0000 - accuracy: 0.0000e+00\n",
            "Epoch 24/30\n",
            "37/37 [==============================] - 0s 977us/step - loss: 2792286464.0000 - accuracy: 0.0000e+00\n",
            "Epoch 25/30\n",
            "37/37 [==============================] - 0s 978us/step - loss: 2800850432.0000 - accuracy: 0.0000e+00\n",
            "Epoch 26/30\n",
            "37/37 [==============================] - 0s 960us/step - loss: 2790784000.0000 - accuracy: 0.0000e+00\n",
            "Epoch 27/30\n",
            "37/37 [==============================] - 0s 1ms/step - loss: 2791766272.0000 - accuracy: 0.0000e+00\n",
            "Epoch 28/30\n",
            "37/37 [==============================] - 0s 969us/step - loss: 2789376768.0000 - accuracy: 0.0000e+00\n",
            "Epoch 29/30\n",
            "37/37 [==============================] - 0s 962us/step - loss: 2791759616.0000 - accuracy: 0.0000e+00\n",
            "Epoch 30/30\n",
            "37/37 [==============================] - 0s 973us/step - loss: 2792179712.0000 - accuracy: 0.0000e+00\n"
          ],
          "name": "stdout"
        },
        {
          "output_type": "execute_result",
          "data": {
            "text/plain": [
              "<tensorflow.python.keras.callbacks.History at 0x7f917f88c860>"
            ]
          },
          "metadata": {
            "tags": []
          },
          "execution_count": 99
        }
      ]
    },
    {
      "cell_type": "code",
      "metadata": {
        "colab": {
          "base_uri": "https://localhost:8080/"
        },
        "id": "-L3egYvxS920",
        "outputId": "04114f20-10e4-4c15-f7f0-38cd22953dfb"
      },
      "source": [
        "print(Y_test)"
      ],
      "execution_count": null,
      "outputs": [
        {
          "output_type": "stream",
          "text": [
            "      SalePrice\n",
            "862      152000\n",
            "425      135000\n",
            "454      188000\n",
            "994      337500\n",
            "484      132500\n",
            "...         ...\n",
            "653      135000\n",
            "18       159000\n",
            "488      160000\n",
            "558      175000\n",
            "1419     223000\n",
            "\n",
            "[292 rows x 1 columns]\n"
          ],
          "name": "stdout"
        }
      ]
    },
    {
      "cell_type": "code",
      "metadata": {
        "colab": {
          "base_uri": "https://localhost:8080/"
        },
        "id": "t4rbz7MaK2I3",
        "outputId": "0c0bbf57-525b-4b6f-8c99-187fc570344a"
      },
      "source": [
        "TEST = X_test\r\n",
        "print(model.predict(TEST, batch_size=5))"
      ],
      "execution_count": null,
      "outputs": [
        {
          "output_type": "stream",
          "text": [
            "[[142310.25 ]\n",
            " [142309.67 ]\n",
            " [233986.39 ]\n",
            " [233024.39 ]\n",
            " [127584.445]\n",
            " [107311.49 ]\n",
            " [123485.2  ]\n",
            " [179956.2  ]\n",
            " [211816.69 ]\n",
            " [160584.14 ]\n",
            " [262779.34 ]\n",
            " [101019.87 ]\n",
            " [207804.08 ]\n",
            " [308366.72 ]\n",
            " [251071.83 ]\n",
            " [ 82178.07 ]\n",
            " [215885.45 ]\n",
            " [128923.26 ]\n",
            " [174401.14 ]\n",
            " [120010.69 ]\n",
            " [137302.66 ]\n",
            " [ 98854.88 ]\n",
            " [225800.83 ]\n",
            " [152901.47 ]\n",
            " [ 74139.6  ]\n",
            " [319628.16 ]\n",
            " [287026.34 ]\n",
            " [107919.84 ]\n",
            " [118286.87 ]\n",
            " [179168.56 ]\n",
            " [160659.78 ]\n",
            " [201235.45 ]\n",
            " [146606.45 ]\n",
            " [235525.27 ]\n",
            " [269479.94 ]\n",
            " [177841.55 ]\n",
            " [264424.56 ]\n",
            " [121961.76 ]\n",
            " [183215.92 ]\n",
            " [ 97261.77 ]\n",
            " [156545.69 ]\n",
            " [119762.766]\n",
            " [187407.36 ]\n",
            " [164812.64 ]\n",
            " [138320.84 ]\n",
            " [187640.36 ]\n",
            " [275590.56 ]\n",
            " [180774.92 ]\n",
            " [151618.89 ]\n",
            " [148974.03 ]\n",
            " [183737.25 ]\n",
            " [ 96633.24 ]\n",
            " [142928.84 ]\n",
            " [158491.7  ]\n",
            " [189803.4  ]\n",
            " [206632.83 ]\n",
            " [185107.98 ]\n",
            " [203572.34 ]\n",
            " [196723.1  ]\n",
            " [103558.25 ]\n",
            " [171936.8  ]\n",
            " [151340.86 ]\n",
            " [223473.52 ]\n",
            " [280487.25 ]\n",
            " [ 79705.336]\n",
            " [187265.56 ]\n",
            " [142879.39 ]\n",
            " [232590.67 ]\n",
            " [201493.42 ]\n",
            " [157028.83 ]\n",
            " [101298.43 ]\n",
            " [139208.03 ]\n",
            " [175109.83 ]\n",
            " [278352.06 ]\n",
            " [233342.61 ]\n",
            " [166438.95 ]\n",
            " [259046.45 ]\n",
            " [283395.75 ]\n",
            " [241504.7  ]\n",
            " [163637.1  ]\n",
            " [200508.05 ]\n",
            " [141820.08 ]\n",
            " [211008.17 ]\n",
            " [112466.96 ]\n",
            " [166121.34 ]\n",
            " [170938.25 ]\n",
            " [133673.67 ]\n",
            " [177956.45 ]\n",
            " [107970.37 ]\n",
            " [107670.9  ]\n",
            " [254540.36 ]\n",
            " [119324.96 ]\n",
            " [138443.06 ]\n",
            " [161178.4  ]\n",
            " [231659.11 ]\n",
            " [166697.89 ]\n",
            " [223477.58 ]\n",
            " [231401.45 ]\n",
            " [145325.03 ]\n",
            " [225749.4  ]\n",
            " [188544.36 ]\n",
            " [368875.16 ]\n",
            " [129056.62 ]\n",
            " [185329.98 ]\n",
            " [112881.85 ]\n",
            " [177836.17 ]\n",
            " [180446.33 ]\n",
            " [233586.33 ]\n",
            " [179654.19 ]\n",
            " [184470.58 ]\n",
            " [192215.5  ]\n",
            " [ 90638.766]\n",
            " [209437.03 ]\n",
            " [122064.336]\n",
            " [181940.8  ]\n",
            " [227261.67 ]\n",
            " [123846.5  ]\n",
            " [224059.31 ]\n",
            " [181590.95 ]\n",
            " [217177.84 ]\n",
            " [162047.12 ]\n",
            " [112435.62 ]\n",
            " [112348.71 ]\n",
            " [168656.88 ]\n",
            " [209324.61 ]\n",
            " [265012.78 ]\n",
            " [117684.65 ]\n",
            " [108042.89 ]\n",
            " [139510.92 ]\n",
            " [159873.88 ]\n",
            " [233812.77 ]\n",
            " [191685.89 ]\n",
            " [194084.38 ]\n",
            " [165495.48 ]\n",
            " [151100.64 ]\n",
            " [182974.11 ]\n",
            " [142467.28 ]\n",
            " [146088.39 ]\n",
            " [135892.56 ]\n",
            " [157693.56 ]\n",
            " [145590.33 ]\n",
            " [211100.52 ]\n",
            " [147586.05 ]\n",
            " [369712.47 ]\n",
            " [245120.08 ]\n",
            " [227374.58 ]\n",
            " [107956.87 ]\n",
            " [288620.34 ]\n",
            " [257444.89 ]\n",
            " [115878.52 ]\n",
            " [180080.11 ]\n",
            " [188964.44 ]\n",
            " [218582.53 ]\n",
            " [188143.11 ]\n",
            " [160446.89 ]\n",
            " [295635.2  ]\n",
            " [199576.69 ]\n",
            " [179268.97 ]\n",
            " [179272.3  ]\n",
            " [116795.65 ]\n",
            " [254869.38 ]\n",
            " [222994.61 ]\n",
            " [189624.6  ]\n",
            " [155027.98 ]\n",
            " [135007.23 ]\n",
            " [320795.5  ]\n",
            " [227584.22 ]\n",
            " [270274.47 ]\n",
            " [125966.47 ]\n",
            " [ 96584.35 ]\n",
            " [198315.42 ]\n",
            " [144046.23 ]\n",
            " [251088.89 ]\n",
            " [134950.14 ]\n",
            " [176661.81 ]\n",
            " [200355.98 ]\n",
            " [229307.11 ]\n",
            " [144942.47 ]\n",
            " [386543.28 ]\n",
            " [125904.48 ]\n",
            " [173850.84 ]\n",
            " [233986.39 ]\n",
            " [135737.58 ]\n",
            " [219271.9  ]\n",
            " [141916.45 ]\n",
            " [194409.48 ]\n",
            " [162402.56 ]\n",
            " [217601.14 ]\n",
            " [133888.64 ]\n",
            " [160792.45 ]\n",
            " [177693.95 ]\n",
            " [196788.52 ]\n",
            " [174907.3  ]\n",
            " [190009.45 ]\n",
            " [159039.42 ]\n",
            " [108160.96 ]\n",
            " [120662.14 ]\n",
            " [173786.16 ]\n",
            " [202353.62 ]\n",
            " [177771.95 ]\n",
            " [144921.72 ]\n",
            " [112308.85 ]\n",
            " [267793.94 ]\n",
            " [128032.555]\n",
            " [107705.086]\n",
            " [150962.98 ]\n",
            " [257144.97 ]\n",
            " [148497.67 ]\n",
            " [169726.78 ]\n",
            " [177463.52 ]\n",
            " [153954.14 ]\n",
            " [204229.36 ]\n",
            " [123537.09 ]\n",
            " [192127.36 ]\n",
            " [189794.14 ]\n",
            " [235414.48 ]\n",
            " [126963.664]\n",
            " [156974.4  ]\n",
            " [161984.64 ]\n",
            " [206969.5  ]\n",
            " [251539.86 ]\n",
            " [201092.78 ]\n",
            " [126752.586]\n",
            " [165233.31 ]\n",
            " [173891.1  ]\n",
            " [185003.48 ]\n",
            " [160833.94 ]\n",
            " [146949.77 ]\n",
            " [ 95801.93 ]\n",
            " [162480.14 ]\n",
            " [125131.12 ]\n",
            " [136221.2  ]\n",
            " [128392.47 ]\n",
            " [231463.4  ]\n",
            " [128974.73 ]\n",
            " [132055.95 ]\n",
            " [218886.89 ]\n",
            " [123849.586]\n",
            " [215206.67 ]\n",
            " [113561.19 ]\n",
            " [181696.17 ]\n",
            " [194986.5  ]\n",
            " [174649.05 ]\n",
            " [172182.62 ]\n",
            " [223096.02 ]\n",
            " [145227.12 ]\n",
            " [172790.47 ]\n",
            " [250693.9  ]\n",
            " [178864.39 ]\n",
            " [121286.164]\n",
            " [165234.27 ]\n",
            " [170878.83 ]\n",
            " [159319.48 ]\n",
            " [185100.8  ]\n",
            " [197457.52 ]\n",
            " [117782.98 ]\n",
            " [269688.78 ]\n",
            " [168847.67 ]\n",
            " [232022.36 ]\n",
            " [209930.34 ]\n",
            " [234311.45 ]\n",
            " [186832.52 ]\n",
            " [173701.8  ]\n",
            " [250164.06 ]\n",
            " [240384.02 ]\n",
            " [114877.29 ]\n",
            " [174273.52 ]\n",
            " [192265.58 ]\n",
            " [ 95387.164]\n",
            " [ 51934.96 ]\n",
            " [224386.52 ]\n",
            " [145358.22 ]\n",
            " [108079.914]\n",
            " [277455.53 ]\n",
            " [187829.48 ]\n",
            " [214008.05 ]\n",
            " [182575.   ]\n",
            " [308432.03 ]\n",
            " [110228.35 ]\n",
            " [164782.23 ]\n",
            " [216780.23 ]\n",
            " [175423.73 ]\n",
            " [ 94204.414]\n",
            " [110666.9  ]\n",
            " [232266.14 ]\n",
            " [130093.086]\n",
            " [139994.53 ]\n",
            " [151231.92 ]\n",
            " [145201.2  ]\n",
            " [292967.16 ]\n",
            " [149458.58 ]\n",
            " [250834.36 ]]\n"
          ],
          "name": "stdout"
        }
      ]
    },
    {
      "cell_type": "code",
      "metadata": {
        "colab": {
          "base_uri": "https://localhost:8080/"
        },
        "id": "Suf6-INXOAcL",
        "outputId": "8dda9b06-8306-4335-de11-c1ea0535aa8f"
      },
      "source": [
        "test_data = np.array([2003,854,1710,2,1,3,8,2008])\r\n",
        "print(model.predict(test_data.reshape(1,8), batch_size=1))"
      ],
      "execution_count": null,
      "outputs": [
        {
          "output_type": "stream",
          "text": [
            "[[182665.97]]\n"
          ],
          "name": "stdout"
        }
      ]
    },
    {
      "cell_type": "code",
      "metadata": {
        "id": "A9Osj_9hPd8a"
      },
      "source": [
        "model.save(\"housing_model.h5\")"
      ],
      "execution_count": null,
      "outputs": []
    },
    {
      "cell_type": "code",
      "metadata": {
        "id": "15h8yfauPpL9"
      },
      "source": [
        "old_model = keras.models.load_model(\"housing_model.h5\")"
      ],
      "execution_count": null,
      "outputs": []
    },
    {
      "cell_type": "code",
      "metadata": {
        "colab": {
          "base_uri": "https://localhost:8080/"
        },
        "id": "-dy2h8bxP3rd",
        "outputId": "05b122c4-5adb-4d55-822d-452c19d0d158"
      },
      "source": [
        "test_data = np.array([2003,854,1710,2,1,3,8,2008])\r\n",
        "print(old_model.predict(test_data.reshape(1,8), batch_size=1))"
      ],
      "execution_count": null,
      "outputs": [
        {
          "output_type": "stream",
          "text": [
            "[[183955.53]]\n"
          ],
          "name": "stdout"
        }
      ]
    }
  ]
}