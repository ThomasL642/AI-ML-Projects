{
  "nbformat": 4,
  "nbformat_minor": 0,
  "metadata": {
    "colab": {
      "name": "MNIST Classifier with Keras",
      "provenance": [],
      "authorship_tag": "ABX9TyOBBfPn7kNt9LymKqBZdnR9",
      "include_colab_link": true
    },
    "kernelspec": {
      "name": "python3",
      "display_name": "Python 3"
    },
    "accelerator": "GPU"
  },
  "cells": [
    {
      "cell_type": "markdown",
      "metadata": {
        "id": "view-in-github",
        "colab_type": "text"
      },
      "source": [
        "<a href=\"https://colab.research.google.com/github/ThomasL642/Thomas/blob/main/MNIST_Classifier_with_Keras.ipynb\" target=\"_parent\"><img src=\"https://colab.research.google.com/assets/colab-badge.svg\" alt=\"Open In Colab\"/></a>"
      ]
    },
    {
      "cell_type": "code",
      "metadata": {
        "id": "lVlnysjrZBXq"
      },
      "source": [
        "import keras\r\n",
        "mnist = keras.datasets.mnist\r\n",
        "\r\n",
        "(X_train, Y_train), (X_test, Y_test) = mnist.load_data()"
      ],
      "execution_count": null,
      "outputs": []
    },
    {
      "cell_type": "code",
      "metadata": {
        "colab": {
          "base_uri": "https://localhost:8080/",
          "height": 283
        },
        "id": "2v7KB3jsZEw6",
        "outputId": "522b13ea-103d-47c5-f18f-249bcb301eb7"
      },
      "source": [
        "import matplotlib.pyplot as plt\r\n",
        "plt.imshow(X_train[0])\r\n",
        "plt.show()\r\n",
        "\r\n",
        "print(Y_train[0])"
      ],
      "execution_count": null,
      "outputs": [
        {
          "output_type": "display_data",
          "data": {
            "image/png": "[encoded data removed]",
            "text/plain": [
              "<Figure size 432x288 with 1 Axes>"
            ]
          },
          "metadata": {
            "tags": [],
            "needs_background": "light"
          }
        },
        {
          "output_type": "stream",
          "text": [
            "5\n"
          ],
          "name": "stdout"
        }
      ]
    },
    {
      "cell_type": "code",
      "metadata": {
        "id": "dQVwbOW1Zxll"
      },
      "source": [
        "X_train = X_train.reshape(X_train.shape[0], 28, 28, 1)\r\n",
        "X_test = X_test.reshape(X_test.shape[0], 28, 28, 1)\r\n",
        "\r\n",
        "input_shape = (28, 28, 1)\r\n",
        "\r\n",
        "X_train = X_train.astype(\"float32\")\r\n",
        "X_train /= 255\r\n",
        "\r\n",
        "X_test = X_test.astype(\"float32\")\r\n",
        "X_test /= 255"
      ],
      "execution_count": null,
      "outputs": []
    },
    {
      "cell_type": "code",
      "metadata": {
        "colab": {
          "base_uri": "https://localhost:8080/"
        },
        "id": "fAVizwHScOPD",
        "outputId": "2256ffc7-e97d-487e-bbf1-4f7da778bcc4"
      },
      "source": [
        "print (Y_train[0])\r\n",
        "\r\n",
        "Y_train = keras.utils.to_categorical(Y_train, 10)\r\n",
        "Y_test = keras.utils.to_categorical(Y_test, 10)\r\n",
        "\r\n",
        "print (Y_train[0])"
      ],
      "execution_count": null,
      "outputs": [
        {
          "output_type": "stream",
          "text": [
            "5\n",
            "[0. 0. 0. 0. 0. 1. 0. 0. 0. 0.]\n"
          ],
          "name": "stdout"
        }
      ]
    },
    {
      "cell_type": "code",
      "metadata": {
        "id": "cHiaKzvhdQFu"
      },
      "source": [
        "model = keras.models.Sequential() \r\n",
        "\r\n",
        "model.add(keras.layers.Conv2D(32, kernel_size=(3,3), activation=\"relu\", input_shape=input_shape)) #convonlution layer\r\n",
        "model.add(keras.layers.Conv2D(64, kernel_size=(3,3), activation=\"relu\")) #convolution layer\r\n",
        "model.add(keras.layers.MaxPooling2D(pool_size=(2,2))) #pooling layer\r\n",
        "model.add(keras.layers.Dropout(0.25))\r\n",
        "model.add(keras.layers.Flatten())\r\n",
        "model.add(keras.layers.Dense(120, activation=\"relu\"))\r\n",
        "model.add(keras.layers.Dropout(0.5))\r\n",
        "model.add(keras.layers.Dense(10, activation=\"softmax\"))"
      ],
      "execution_count": null,
      "outputs": []
    },
    {
      "cell_type": "code",
      "metadata": {
        "colab": {
          "base_uri": "https://localhost:8080/"
        },
        "id": "BETdKHd1m24d",
        "outputId": "05dbe8e2-155a-4f09-b6d8-c434ae178f1a"
      },
      "source": [
        "model.compile(loss=keras.losses.categorical_crossentropy, optimizer=keras.optimizers.Adadelta(), metrics=\"accuracy\")\r\n",
        "model.fit(X_train, Y_train, batch_size=120, epochs=20, validation_data=(X_test, Y_test))"
      ],
      "execution_count": null,
      "outputs": [
        {
          "output_type": "stream",
          "text": [
            "Epoch 1/20\n",
            "500/500 [==============================] - 4s 8ms/step - loss: 0.6712 - accuracy: 0.7942 - val_loss: 0.4551 - val_accuracy: 0.8857\n",
            "Epoch 2/20\n",
            "500/500 [==============================] - 4s 7ms/step - loss: 0.6586 - accuracy: 0.7993 - val_loss: 0.4413 - val_accuracy: 0.8882\n",
            "Epoch 3/20\n",
            "500/500 [==============================] - 4s 7ms/step - loss: 0.6412 - accuracy: 0.8044 - val_loss: 0.4288 - val_accuracy: 0.8914\n",
            "Epoch 4/20\n",
            "500/500 [==============================] - 4s 7ms/step - loss: 0.6286 - accuracy: 0.8081 - val_loss: 0.4185 - val_accuracy: 0.8922\n",
            "Epoch 5/20\n",
            "500/500 [==============================] - 4s 7ms/step - loss: 0.6140 - accuracy: 0.8132 - val_loss: 0.4080 - val_accuracy: 0.8953\n",
            "Epoch 6/20\n",
            "500/500 [==============================] - 4s 7ms/step - loss: 0.6039 - accuracy: 0.8159 - val_loss: 0.3988 - val_accuracy: 0.8971\n",
            "Epoch 7/20\n",
            "500/500 [==============================] - 4s 7ms/step - loss: 0.5939 - accuracy: 0.8177 - val_loss: 0.3908 - val_accuracy: 0.8980\n",
            "Epoch 8/20\n",
            "500/500 [==============================] - 4s 7ms/step - loss: 0.5809 - accuracy: 0.8233 - val_loss: 0.3828 - val_accuracy: 0.8997\n",
            "Epoch 9/20\n",
            "500/500 [==============================] - 4s 7ms/step - loss: 0.5662 - accuracy: 0.8270 - val_loss: 0.3749 - val_accuracy: 0.9015\n",
            "Epoch 10/20\n",
            "500/500 [==============================] - 4s 7ms/step - loss: 0.5607 - accuracy: 0.8307 - val_loss: 0.3686 - val_accuracy: 0.9028\n",
            "Epoch 11/20\n",
            "500/500 [==============================] - 4s 7ms/step - loss: 0.5549 - accuracy: 0.8302 - val_loss: 0.3621 - val_accuracy: 0.9034\n",
            "Epoch 12/20\n",
            "500/500 [==============================] - 4s 7ms/step - loss: 0.5427 - accuracy: 0.8362 - val_loss: 0.3565 - val_accuracy: 0.9045\n",
            "Epoch 13/20\n",
            "500/500 [==============================] - 4s 7ms/step - loss: 0.5365 - accuracy: 0.8384 - val_loss: 0.3509 - val_accuracy: 0.9057\n",
            "Epoch 14/20\n",
            "500/500 [==============================] - 4s 7ms/step - loss: 0.5263 - accuracy: 0.8415 - val_loss: 0.3460 - val_accuracy: 0.9066\n",
            "Epoch 15/20\n",
            "500/500 [==============================] - 4s 7ms/step - loss: 0.5196 - accuracy: 0.8432 - val_loss: 0.3409 - val_accuracy: 0.9073\n",
            "Epoch 16/20\n",
            "500/500 [==============================] - 4s 7ms/step - loss: 0.5150 - accuracy: 0.8445 - val_loss: 0.3365 - val_accuracy: 0.9082\n",
            "Epoch 17/20\n",
            "500/500 [==============================] - 4s 7ms/step - loss: 0.5079 - accuracy: 0.8485 - val_loss: 0.3322 - val_accuracy: 0.9090\n",
            "Epoch 18/20\n",
            "500/500 [==============================] - 4s 7ms/step - loss: 0.5059 - accuracy: 0.8453 - val_loss: 0.3278 - val_accuracy: 0.9106\n",
            "Epoch 19/20\n",
            "500/500 [==============================] - 4s 7ms/step - loss: 0.4965 - accuracy: 0.8497 - val_loss: 0.3243 - val_accuracy: 0.9118\n",
            "Epoch 20/20\n",
            "500/500 [==============================] - 4s 7ms/step - loss: 0.4882 - accuracy: 0.8530 - val_loss: 0.3198 - val_accuracy: 0.9123\n"
          ],
          "name": "stdout"
        },
        {
          "output_type": "execute_result",
          "data": {
            "text/plain": [
              "<tensorflow.python.keras.callbacks.History at 0x7f7dc26f1c88>"
            ]
          },
          "metadata": {
            "tags": []
          },
          "execution_count": 19
        }
      ]
    },
    {
      "cell_type": "code",
      "metadata": {
        "colab": {
          "base_uri": "https://localhost:8080/"
        },
        "id": "rX_G9canoiq3",
        "outputId": "edc05eb8-1a7f-4063-d650-6cf6d7774980"
      },
      "source": [
        "print(model.evaluate(X_test, Y_test))"
      ],
      "execution_count": null,
      "outputs": [
        {
          "output_type": "stream",
          "text": [
            "313/313 [==============================] - 1s 3ms/step - loss: 0.3198 - accuracy: 0.9123\n",
            "[0.31983405351638794, 0.9122999906539917]\n"
          ],
          "name": "stdout"
        }
      ]
    }
  ]
}