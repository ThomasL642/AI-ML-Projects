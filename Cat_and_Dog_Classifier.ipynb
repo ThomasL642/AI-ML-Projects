{
  "nbformat": 4,
  "nbformat_minor": 0,
  "metadata": {
    "colab": {
      "name": "Cat and Dog Classifier",
      "provenance": [],
      "collapsed_sections": [],
      "mount_file_id": "1Xaw6XAJ5U4vxYBtU6B0zxAaOCT7tneDi",
      "authorship_tag": "ABX9TyM7Dd3w298PRoaOkFA+hjOb",
      "include_colab_link": true
    },
    "kernelspec": {
      "name": "python3",
      "display_name": "Python 3"
    },
    "accelerator": "GPU"
  },
  "cells": [
    {
      "cell_type": "markdown",
      "metadata": {
        "id": "view-in-github",
        "colab_type": "text"
      },
      "source": [
        "<a href=\"https://colab.research.google.com/github/ThomasL642/Thomas/blob/main/Cat_and_Dog_Classifier.ipynb\" target=\"_parent\"><img src=\"https://colab.research.google.com/assets/colab-badge.svg\" alt=\"Open In Colab\"/></a>"
      ]
    },
    {
      "cell_type": "code",
      "metadata": {
        "id": "Ka7_U9LlxCkL",
        "colab": {
          "base_uri": "https://localhost:8080/",
          "height": 34
        },
        "outputId": "2484815d-6396-4f5a-d5bd-7823ba4023f5"
      },
      "source": [
        "from google.colab import drive\n",
        "drive.mount('/content/gdrive')"
      ],
      "execution_count": null,
      "outputs": [
        {
          "output_type": "stream",
          "text": [
            "Drive already mounted at /content/gdrive; to attempt to forcibly remount, call drive.mount(\"/content/gdrive\", force_remount=True).\n"
          ],
          "name": "stdout"
        }
      ]
    },
    {
      "cell_type": "code",
      "metadata": {
        "id": "SX-POMym5RrT",
        "colab": {
          "base_uri": "https://localhost:8080/"
        },
        "outputId": "a6eb3791-5cae-4001-a5ce-93d0e9f53713"
      },
      "source": [
        "import tensorflow as tf\n",
        "from tensorflow.keras.models import Sequential\n",
        "from tensorflow.keras.layers import Dense, Dropout, Activation, Flatten, Conv2D, MaxPooling2D\n",
        "import pickle\n",
        "import numpy as np\n",
        "\n",
        "X = pickle.load(open(\"/content/drive/MyDrive/Colab Notebooks/cats and dogs/X.pickle\",\"rb\"))\n",
        "y = pickle.load(open(\"/content/drive/MyDrive/Colab Notebooks/cats and dogs/y.pickle\",\"rb\"))\n",
        "\n",
        "X = X/255.0\n",
        "\n",
        "model = Sequential()\n",
        "model.add(Conv2D(64, (3,3), input_shape = X.shape[1:]))\n",
        "model.add(Activation(\"relu\"))\n",
        "model.add(MaxPooling2D(pool_size=(2,2)))\n",
        "\n",
        "model.add(Conv2D(64, (3,3)))\n",
        "model.add(Activation(\"relu\"))\n",
        "model.add(MaxPooling2D(pool_size=(2,2)))\n",
        "\n",
        "model.add(Flatten())\n",
        "\n",
        "model.add(Dense(64))\n",
        "model.add(Activation(\"relu\"))\n",
        "\n",
        "model.add(Dense(1))\n",
        "model.add(Activation('sigmoid'))\n",
        "\n",
        "model.compile(loss=\"binary_crossentropy\",\n",
        "              optimizer='adam',\n",
        "              metrics=['accuracy'])\n",
        "\n",
        "X = np.asarray(X)\n",
        "y = np.asarray(y)\n",
        "\n",
        "model.fit(X, y, batch_size=32, epochs=10, validation_split=0.1)"
      ],
      "execution_count": null,
      "outputs": [
        {
          "output_type": "stream",
          "text": [
            "Epoch 1/10\n",
            "537/537 [==============================] - 3s 5ms/step - loss: 0.6071 - accuracy: 0.6637 - val_loss: 0.3418 - val_accuracy: 0.8977\n",
            "Epoch 2/10\n",
            "537/537 [==============================] - 3s 5ms/step - loss: 0.5188 - accuracy: 0.7450 - val_loss: 0.3357 - val_accuracy: 0.8789\n",
            "Epoch 3/10\n",
            "537/537 [==============================] - 3s 5ms/step - loss: 0.4697 - accuracy: 0.7803 - val_loss: 0.3063 - val_accuracy: 0.8736\n",
            "Epoch 4/10\n",
            "537/537 [==============================] - 3s 5ms/step - loss: 0.4325 - accuracy: 0.7992 - val_loss: 0.3528 - val_accuracy: 0.8437\n",
            "Epoch 5/10\n",
            "537/537 [==============================] - 3s 5ms/step - loss: 0.3991 - accuracy: 0.8179 - val_loss: 0.4436 - val_accuracy: 0.7808\n",
            "Epoch 6/10\n",
            "537/537 [==============================] - 3s 5ms/step - loss: 0.3644 - accuracy: 0.8350 - val_loss: 0.3314 - val_accuracy: 0.8458\n",
            "Epoch 7/10\n",
            "537/537 [==============================] - 3s 5ms/step - loss: 0.3266 - accuracy: 0.8568 - val_loss: 0.3099 - val_accuracy: 0.8600\n",
            "Epoch 8/10\n",
            "537/537 [==============================] - 3s 5ms/step - loss: 0.2932 - accuracy: 0.8741 - val_loss: 0.3151 - val_accuracy: 0.8595\n",
            "Epoch 9/10\n",
            "537/537 [==============================] - 3s 5ms/step - loss: 0.2501 - accuracy: 0.8968 - val_loss: 0.2445 - val_accuracy: 0.8972\n",
            "Epoch 10/10\n",
            "537/537 [==============================] - 3s 5ms/step - loss: 0.2113 - accuracy: 0.9156 - val_loss: 0.6100 - val_accuracy: 0.7520\n"
          ],
          "name": "stdout"
        },
        {
          "output_type": "execute_result",
          "data": {
            "text/plain": [
              "<tensorflow.python.keras.callbacks.History at 0x7f1c94f62ac8>"
            ]
          },
          "metadata": {
            "tags": []
          },
          "execution_count": 2
        }
      ]
    }
  ]
}